{
 "cells": [
  {
   "cell_type": "markdown",
   "id": "progressive-convert",
   "metadata": {
    "id": "organized-oxygen",
    "tags": []
   },
   "source": [
    "# Who's That Pokemon? Find Out by Building a Neural Image Search Engine"
   ]
  },
  {
   "cell_type": "markdown",
   "id": "everyday-boards",
   "metadata": {
    "id": "civic-makeup",
    "tags": []
   },
   "source": [
    "In this workshop we will build a neural search engine for images of Pokemon.\n",
    "\n",
    "![](./img/sprites.png)"
   ]
  },
  {
   "cell_type": "markdown",
   "id": "personal-maldives",
   "metadata": {
    "id": "4cbcfb36-6c1a-4fc2-a397-d28a0b5e2b89"
   },
   "source": [
    "---\n",
    "\n",
    "# TABLE OF CONTENTS\n",
    "\n",
    "## 0. Neural search and Jina\n",
    "## 1. Documents - the data\n",
    "## 2. Flow - the pipeline\n",
    "### &nbsp;&nbsp;&nbsp;&nbsp;2.1 Indexing data\n",
    "### &nbsp;&nbsp;&nbsp;&nbsp;2.2 Searching data\n",
    "## 3. Executors - the pipeline's processors\n",
    "### &nbsp;&nbsp;&nbsp;&nbsp;3.1 Replacing Executors\n",
    "### &nbsp;&nbsp;&nbsp;&nbsp;3.2 Creating Executors\n",
    "## 4. Optimizing the Flow"
   ]
  },
  {
   "cell_type": "markdown",
   "id": "textile-chinese",
   "metadata": {
    "id": "orange-compression"
   },
   "source": [
    "---\n",
    "\n",
    "## Pre-requisites\n",
    "\n",
    "Skip this if you've already downloaded them.\n"
   ]
  },
  {
   "cell_type": "markdown",
   "id": "convinced-saskatchewan",
   "metadata": {
    "id": "67A4z0N1fuln"
   },
   "source": [
    "**Google Colab**: do the following first:"
   ]
  },
  {
   "cell_type": "code",
   "execution_count": null,
   "id": "cardiac-claim",
   "metadata": {
    "id": "gouzEqhngivY",
    "tags": []
   },
   "outputs": [],
   "source": [
    "!git clone https://github.com/jina-ai/workshops.git\n",
    "%cd workshops/pokedex\n",
    "!pip install -r requirements.txt"
    "!pip install --no-cache-dir -I pillow"
    "!pip install optuna"
   ]
  },
  {
   "cell_type": "markdown",
   "id": "happy-healing",
   "metadata": {
    "id": "caQIqGscfevw"
   },
   "source": [
    "### Download and Extract Data\n",
    "\n",
    "For this example we're using Pokemon sprites from [veekun.com](https://veekun.com/dex/downloads). To download them run:"
   ]
  },
  {
   "cell_type": "code",
   "execution_count": null,
   "id": "super-bedroom",
   "metadata": {
    "id": "vk1e0veVfE3u",
    "tags": []
   },
   "outputs": [],
   "source": [
    "!bash ./get_data.sh"
   ]
  },
  {
   "cell_type": "markdown",
   "id": "enclosed-depression",
   "metadata": {
    "id": "steady-singapore"
   },
   "source": [
    "---\n",
    "\n",
    "# Problem definition(s)\n",
    "\n",
    "We want to search Pokemon by outlines! For example \n",
    "\n",
    "![](img/outline.png)\n",
    "\n",
    "May return\n",
    "\n",
    "![1.png](img/1-green.png)\n",
    "\n",
    "*Alternate problem:*\n",
    "\n",
    "Search with full Pokemon image, but in different stance/angle:\n",
    "\n",
    "![1.png](img/1.png)\n",
    "\n",
    "should also return\n",
    "\n",
    "![1.png](img/1-green.png)"
   ]
  },
  {
   "cell_type": "markdown",
   "id": "6aff74d5-f82e-42ee-8f9b-ec0c801d8059",
   "metadata": {},
   "source": [
    "# Solving the problem with Neural Search\n",
    "\n",
    "[Neural search](https://docs.jina.ai/get-started/neural-search/) leverages state-of-the-art AI to build every component of a search system. Thanks to recent advances in deep neural networks, a neural search system can go way beyond simple text search. It enables advanced intelligence on all kinds of unstructured data, such as images, audio, video, PDF, 3D mesh, you name it.\n",
    "\n",
    "## The neural search framework: Jina\n",
    "\n",
    "[Jina](https://github.com/jina-ai/jina/) is a neural search framework that empowers anyone to build state-of-the-art and scalable deep learning search applications in minutes.\n",
    "\n",
    "## Jina basic concepts:\n",
    "\n",
    "- **[Document](https://docs.jina.ai/fundamentals/document/)** is the basic data type in Jina;\n",
    "- **[Executor](https://docs.jina.ai/fundamentals/executor/)** is how Jina processes Documents;\n",
    "- **[Flow](https://docs.jina.ai/fundamentals/flow/)** is how Jina streamlines and scales Executors."
   ]
  },
  {
   "cell_type": "markdown",
   "id": "limited-guitar",
   "metadata": {
    "id": "minimal-badge"
   },
   "source": [
    "---\n",
    "\n",
    "# Code"
   ]
  },
  {
   "cell_type": "markdown",
   "id": "endangered-raising",
   "metadata": {
    "id": "16633ae0-807e-43e4-b661-c19e785aefca"
   },
   "source": [
    "Automatically reload changed files when running code."
   ]
  },
  {
   "cell_type": "code",
   "execution_count": null,
   "id": "textile-xerox",
   "metadata": {
    "id": "e7d3c463-54a0-4a4d-9f7f-c80315a5ad49"
   },
   "outputs": [],
   "source": [
    "%load_ext autoreload\n",
    "%autoreload 2"
   ]
  },
  {
   "cell_type": "markdown",
   "id": "constant-technique",
   "metadata": {
    "id": "7eb0ffd6-d445-4bb0-8524-6d45c986195c"
   },
   "source": [
    "Remove (some) warnings from TF and Torch"
   ]
  },
  {
   "cell_type": "code",
   "execution_count": null,
   "id": "respiratory-martin",
   "metadata": {
    "id": "c9eb2af7-8924-442a-ac6a-1db4124706a2"
   },
   "outputs": [],
   "source": [
    "import warnings\n",
    "warnings.filterwarnings(\"ignore\")"
   ]
  },
  {
   "cell_type": "markdown",
   "id": "settled-means",
   "metadata": {
    "id": "1d4864ed-c1ea-47c3-a16b-b95d7eb2411a"
   },
   "source": [
    "Required imports"
   ]
  },
  {
   "cell_type": "code",
   "execution_count": null,
   "id": "hollywood-intermediate",
   "metadata": {
    "id": "1a0a1e19-f923-446f-be1b-8e21e67b88b6"
   },
   "outputs": [],
   "source": [
    "import os\n",
    "import sys\n",
    "from shutil import rmtree\n",
    "from glob import glob\n",
    "import numpy as np\n",
    "from matplotlib import pyplot as plt\n",
    "from matplotlib.pyplot import imshow\n",
    "from PIL import Image\n",
    "\n",
    "from jina import Flow, DocumentArray, Document\n",
    "\n",
    "from jinahub.image.normalizer import ImageNormalizer\n",
    "from jinahub.image.encoder.big_transfer import BigTransferEncoder\n",
    "from jinahub.image.encoder.torch_encoder import ImageTorchEncoder\n",
    "\n",
    "from components import MemMapIndexer"
   ]
  },
  {
   "cell_type": "markdown",
   "id": "cooperative-notice",
   "metadata": {
    "id": "126b317e-59fb-4360-87be-61939c82c469"
   },
   "source": [
    "# Document\n",
    "\n",
    "Here we prepare the data we want to search.\n",
    "\n",
    "Jina provides two abstractions for data.\n",
    "\n",
    "- `Document`\n",
    "- `DocumentArray`\n",
    "\n",
    "A Document can be text, image, audio, video, or any other kind of data that a neural network can process. It could even be 3D meshes or amino acids!"
   ]
  },
  {
   "cell_type": "code",
   "execution_count": null,
   "id": "taken-preference",
   "metadata": {
    "id": "bcc1c26b-f875-4b70-80e2-0a5ffcc80fdd"
   },
   "outputs": [],
   "source": [
    "def get_docs(image_src, num_docs):\n",
    "    docs = DocumentArray()\n",
    "\n",
    "    for file in image_src:\n",
    "        # Uniform Resource Identifier\n",
    "        doc = Document(uri=file)\n",
    "        # this method loads the file into a np.ndarray \n",
    "        doc.convert_image_uri_to_blob()\n",
    "        # tags can be used to store any other random data you'd need\n",
    "        doc.tags['filename'] = file\n",
    "        docs.append(doc)\n",
    "        if len(docs) == num_docs:\n",
    "            break\n",
    "            \n",
    "    return docs"
   ]
  },
  {
   "cell_type": "markdown",
   "id": "incorporate-vermont",
   "metadata": {
    "id": "bff8f114-2cda-40b7-a361-c8b00230d11c"
   },
   "source": [
    "Some configuration options.\n",
    "\n",
    "- Limit the number of docs we index\n",
    "- The path to the images"
   ]
  },
  {
   "cell_type": "code",
   "execution_count": null,
   "id": "imperial-engineer",
   "metadata": {
    "id": "71dae908-4628-4806-9ae0-0b993be3b2a4"
   },
   "outputs": [],
   "source": [
    "num_docs = int(os.environ.get('JINA_MAX_DOCS', 100))\n",
    "image_src = sorted(list(glob('data/pokemon/main-sprites/red-green/*.png')))"
   ]
  },
  {
   "cell_type": "markdown",
   "id": "rotary-developer",
   "metadata": {
    "id": "3b45fcf2-2a41-4264-88e3-bc35c279af42"
   },
   "source": [
    "Environment variables\n",
    "\n",
    "- `JINA_WORKSPACE` (folder where the encoded data will be stored)\n",
    "- `JINA_PORT` (port we will listen on)\n",
    "\n",
    "These are used by the Flow configuration"
   ]
  },
  {
   "cell_type": "code",
   "execution_count": null,
   "id": "parliamentary-editing",
   "metadata": {
    "id": "225b73d4-8a3f-4065-8391-9da5a2823350"
   },
   "outputs": [],
   "source": [
    "workspace = './workspace'\n",
    "os.environ['JINA_WORKSPACE'] = workspace\n",
    "os.environ['JINA_PORT'] = os.environ.get('JINA_PORT', str(45678))"
   ]
  },
  {
   "cell_type": "markdown",
   "id": "cleared-light",
   "metadata": {},
   "source": [
    "Let's plot the images"
   ]
  },
  {
   "cell_type": "code",
   "execution_count": null,
   "id": "humanitarian-painting",
   "metadata": {
    "colab": {
     "base_uri": "https://localhost:8080/",
     "height": 1000
    },
    "id": "a7d7c993-e3a2-4ee6-8c9e-8fbb35d09c6d",
    "outputId": "4a304ea5-18ec-4fc7-ef3f-0675c341eb7c",
    "tags": []
   },
   "outputs": [],
   "source": [
    "for img_path in image_src[:5]:\n",
    "    img = Image.open(img_path)\n",
    "    imshow(img)\n",
    "    plt.title(img_path)\n",
    "    plt.show()"
   ]
  },
  {
   "cell_type": "code",
   "execution_count": null,
   "id": "incoming-large",
   "metadata": {
    "id": "f768ff37-d723-45dc-a48a-759132843caa",
    "tags": []
   },
   "outputs": [],
   "source": [
    "docs = get_docs(image_src, num_docs)"
   ]
  },
  {
   "cell_type": "code",
   "execution_count": null,
   "id": "wired-farming",
   "metadata": {
    "colab": {
     "base_uri": "https://localhost:8080/"
    },
    "id": "1432dde0-a54a-46e1-b7d0-273032351de4",
    "outputId": "b8cf6183-385b-4741-883f-1b520583fcf9"
   },
   "outputs": [],
   "source": [
    "len(docs)"
   ]
  },
  {
   "cell_type": "markdown",
   "id": "unsigned-trial",
   "metadata": {
    "id": "rough-conspiracy"
   },
   "source": [
    "# Flows"
   ]
  },
  {
   "cell_type": "markdown",
   "id": "occasional-hamburg",
   "metadata": {
    "id": "considerable-details"
   },
   "source": [
    "The Flow is the main pipeline in Jina. It describes the way data should be loaded, processed, stored etc. within the system. \n",
    "\n",
    "It is made up of components (called Executors), which are the things doing each specific task.\n",
    "\n",
    "For example, we have:\n",
    "\n",
    "- A crafter Executor which preprocesses the data\n",
    "- An Encoder Executor, which loads the model and *encodes* that data\n",
    "- An Indexer Executor, which stores and retrieves the data"
   ]
  },
  {
   "cell_type": "code",
   "execution_count": null,
   "id": "arranged-combat",
   "metadata": {
    "id": "central-stupid"
   },
   "outputs": [],
   "source": [
    "f = Flow.load_config('flows/flow.yml')"
   ]
  },
  {
   "cell_type": "markdown",
   "id": "patent-hazard",
   "metadata": {
    "id": "fbda8c29-5eae-4e8a-899b-d7a2178b54d4"
   },
   "source": [
    "(We need to make sure to not index on top of an existing workspace. \n",
    "This can cause problems if you are using different configuration options between the two runs.)"
   ]
  },
  {
   "cell_type": "code",
   "execution_count": null,
   "id": "harmful-premises",
   "metadata": {
    "colab": {
     "base_uri": "https://localhost:8080/"
    },
    "id": "343c9d5d-3589-4ea3-9bb5-b7e3940ce2eb",
    "outputId": "09959322-0d77-4ab9-973b-ffcda57eedb5",
    "tags": []
   },
   "outputs": [],
   "source": [
    "if os.path.exists(workspace):\n",
    "    print(f'Workspace at {workspace} exists. Will delete')\n",
    "    rmtree(workspace)"
   ]
  },
  {
   "cell_type": "markdown",
   "id": "changing-savage",
   "metadata": {
    "id": "578e6b0e-26ac-41bb-8223-c788ac74676a"
   },
   "source": [
    "We can plot and visualize the Flow"
   ]
  },
  {
   "cell_type": "code",
   "execution_count": null,
   "id": "acoustic-joshua",
   "metadata": {
    "colab": {
     "base_uri": "https://localhost:8080/",
     "height": 75
    },
    "id": "correct-giant",
    "outputId": "c83890a1-76d8-41ed-f460-864b063da23f",
    "tags": []
   },
   "outputs": [],
   "source": [
    "f.plot('index.png')"
   ]
  },
  {
   "cell_type": "markdown",
   "id": "interracial-absorption",
   "metadata": {
    "id": "statistical-thomson"
   },
   "source": [
    "## Index"
   ]
  },
  {
   "cell_type": "markdown",
   "id": "opening-delay",
   "metadata": {
    "id": "considerable-details"
   },
   "source": [
    "The Flow is a context manager (like a file handler). Within the context, it starts all the Executors within their processes / threads.\n",
    "\n",
    "`.post` is the method you use to send data into the Flow. `on` is the endpoint in the Executor.\n",
    "\n",
    "`request_size` dictates how many images should be sent in one request (~batching)."
   ]
  },
  {
   "cell_type": "code",
   "execution_count": null,
   "id": "conventional-carol",
   "metadata": {
    "colab": {
     "base_uri": "https://localhost:8080/"
    },
    "id": "47ca4748-fda2-4e49-be5f-a517bc3e33b9",
    "outputId": "866e868f-6341-489f-b0af-69dd54644c0b",
    "tags": []
   },
   "outputs": [],
   "source": [
    "with f:\n",
    "    f.post(\n",
    "        on='/index',\n",
    "        inputs=docs,\n",
    "        request_size=64\n",
    "    )"
   ]
  },
  {
   "cell_type": "markdown",
   "id": "reflected-dealing",
   "metadata": {
    "id": "1da2fb59-f0e3-4d7f-9593-2e204830c586"
   },
   "source": [
    "# Questions?\n",
    "\n",
    "---"
   ]
  },
  {
   "cell_type": "markdown",
   "id": "precise-following",
   "metadata": {
    "id": "static-moderator"
   },
   "source": [
    "## Searching\n",
    "\n",
    "Similar to indexing, but we use the `/search` endpoint of the Flow."
   ]
  },
  {
   "cell_type": "markdown",
   "id": "functioning-zealand",
   "metadata": {
    "id": "e34bed63-3a71-481a-a037-a57724df1868"
   },
   "source": [
    "**Search across editions**"
   ]
  },
  {
   "cell_type": "code",
   "execution_count": null,
   "id": "biological-delivery",
   "metadata": {
    "colab": {
     "base_uri": "https://localhost:8080/",
     "height": 284
    },
    "id": "d790dacc-0e01-45bf-b903-90fe769c5184",
    "outputId": "3249a3c9-f7f3-4022-c387-3a4b38ea64d5"
   },
   "outputs": [],
   "source": [
    "red_blue = sorted(list(glob('data/pokemon/main-sprites/red-blue/*.png', recursive=False)))\n",
    "\n",
    "query_docs = get_docs(red_blue, 1)\n",
    "\n",
    "plt.imshow(Image.fromarray(query_docs[0].content.astype(np.uint8)))"
   ]
  },
  {
   "cell_type": "markdown",
   "id": "seeing-shaft",
   "metadata": {
    "id": "3ad798f7-3231-4b33-9403-55674e16ee1a"
   },
   "source": [
    "**Search by outline** - \"Who's that Pokemon?\""
   ]
  },
  {
   "cell_type": "code",
   "execution_count": null,
   "id": "signed-cameroon",
   "metadata": {
    "colab": {
     "base_uri": "https://localhost:8080/",
     "height": 284
    },
    "id": "32012642-3b1d-44d4-b0f4-38e4e2248260",
    "outputId": "9f165c7f-ac86-4c96-de5e-60bde7f2c8f6"
   },
   "outputs": [],
   "source": [
    "outline = \"img/outline.png\"\n",
    "\n",
    "query_docs = get_docs([outline], 1)\n",
    "\n",
    "plt.imshow(Image.fromarray(query_docs[0].content.astype(np.uint8)))"
   ]
  },
  {
   "cell_type": "markdown",
   "id": "confused-parent",
   "metadata": {
    "id": "cc666686-fe4e-495c-b418-c7d11dc38ec6"
   },
   "source": [
    "Let's examine the tags"
   ]
  },
  {
   "cell_type": "code",
   "execution_count": null,
   "id": "olympic-decade",
   "metadata": {
    "colab": {
     "base_uri": "https://localhost:8080/"
    },
    "id": "f807c080-0798-47b0-bdd8-8bb6e7084050",
    "outputId": "4c849030-befe-407b-cfa7-54d1dbd425b6"
   },
   "outputs": [],
   "source": [
    "query_docs[0].tags"
   ]
  },
  {
   "cell_type": "markdown",
   "id": "verbal-health",
   "metadata": {},
   "source": [
    "Now the endpoint is `/search`"
   ]
  },
  {
   "cell_type": "code",
   "execution_count": null,
   "id": "velvet-supplement",
   "metadata": {
    "colab": {
     "base_uri": "https://localhost:8080/"
    },
    "id": "convinced-reliance",
    "outputId": "73e6af07-5ace-4fd0-a925-7463a41eb68b",
    "tags": []
   },
   "outputs": [],
   "source": [
    "# searching\n",
    "with f:\n",
    "    return_docs = f.post(\n",
    "        on='/search',\n",
    "        inputs=query_docs,\n",
    "        parameters={'top_k': 5},\n",
    "        return_results=True\n",
    "    )"
   ]
  },
  {
   "cell_type": "code",
   "execution_count": null,
   "id": "strong-intent",
   "metadata": {
    "colab": {
     "base_uri": "https://localhost:8080/"
    },
    "id": "convinced-reliance",
    "outputId": "73e6af07-5ace-4fd0-a925-7463a41eb68b",
    "tags": []
   },
   "outputs": [],
   "source": [
    "# **Results** & reconstructing the original image from the Document content\n",
    "\n",
    "for match in return_docs[0].docs[0].matches:\n",
    "    filename = match.tags['filename']\n",
    "    img = Image.open(filename)\n",
    "    imshow(img)\n",
    "    plt.title(match.tags['filename'])\n",
    "    plt.show()"
   ]
  },
  {
   "cell_type": "markdown",
   "id": "115b146e-ee2b-4a2b-90bb-e8254d97cf2b",
   "metadata": {},
   "source": [
    "## But...these results suck\n",
    "\n",
    "Hmmm...it could be that we didn't use the right neural network model. Different models succeed at different things, and this model's \"thing\" is just not Pokemon.\n",
    "\n",
    "> Note: This goes for *biological* neural networks too. A dolphin and a squirrel both have neural networks in their heads, but you wouldn't ask a dolphin to collect nuts or a squirrel to catch a fish. Each succeeds in their own niche."
   ]
  },
  {
   "cell_type": "markdown",
   "id": "disciplinary-butler",
   "metadata": {
    "id": "virtual-think"
   },
   "source": [
    "# Questions?\n",
    "\n",
    "---"
   ]
  },
  {
   "cell_type": "markdown",
   "id": "secret-cherry",
   "metadata": {
    "id": "848fd1d2-f13a-4683-a044-17e5795ba316"
   },
   "source": [
    "# Advanced Topics\n",
    "\n",
    "\n",
    "**NOTE**: After configuring these, you will need to re-index your data and search again. "
   ]
  },
  {
   "cell_type": "markdown",
   "id": "spanish-hearing",
   "metadata": {
    "id": "f45c02a2-382d-499f-a183-923039a4e9c8"
   },
   "source": [
    "## 1. Changing Encoders\n",
    "\n",
    "We can switch the `Encoder` easily.\n",
    "\n",
    "This is the component that is the actual **model**. This encodes the images into a vector space upon which you can perform cosine similarity (or other linear algebra operations).\n",
    "\n",
    "\n",
    "`flows/flow.yml`:\n",
    "\n",
    "```yaml\n",
    "...\n",
    "  - name: encoder\n",
    "    timeout_ready: 600000\n",
    "    uses:\n",
    "        jtype: ImageTorchEncoder\n",
    "...\n",
    "```\n",
    "\n",
    "We also need to make sure the class is discoverable in the current runtime:\n",
    "\n",
    "By default it uses `resnet18`. We can change this with\n",
    "\n",
    "```yaml\n",
    "...\n",
    "  - name: encoder\n",
    "    timeout_ready: 600000\n",
    "    uses:\n",
    "        jtype: ImageTorchEncoder\n",
    "        with:\n",
    "            model_name: resnet18\n",
    "...\n",
    "```\n"
   ]
  },
  {
   "cell_type": "code",
   "execution_count": null,
   "id": "preceding-george",
   "metadata": {
    "id": "0a4c2aae-7341-4a2d-bc2c-c949c4e28311"
   },
   "outputs": [],
   "source": [
    "from jinahub.image.encoder.torch_encoder import ImageTorchEncoder"
   ]
  },
  {
   "cell_type": "markdown",
   "id": "fewer-lesson",
   "metadata": {
    "id": "18054f0a-c4a8-4472-907d-7f0febbede85"
   },
   "source": [
    "Either edit the `flows/flow.yml` file to add it, or use the pre-written `flows/flow-torch.yml`"
   ]
  },
  {
   "cell_type": "markdown",
   "id": "minor-nursery",
   "metadata": {
    "id": "99dd3646-cdbb-448c-a4c2-07c98d1b2945"
   },
   "source": [
    "Now we re-run the cells above with the new Flow. Make sure to **delete the workspace**."
   ]
  },
  {
   "cell_type": "markdown",
   "id": "pacific-missouri",
   "metadata": {
    "id": "98afa8f0-f815-4dc3-a137-d83eabe5174b"
   },
   "source": [
    "**RESULTS** Notice that TorchEncoder returns different results."
   ]
  },
  {
   "cell_type": "markdown",
   "id": "color-liechtenstein",
   "metadata": {
    "id": "b0816afe-ed37-4f87-9788-fcf694b0205d"
   },
   "source": [
    "### Model comparison\n",
    "\n",
    "![](img/models.png)"
   ]
  },
  {
   "cell_type": "markdown",
   "id": "suspected-mauritius",
   "metadata": {
    "id": "3bbbdeb3-d77e-4efc-a222-bbb2531de02f"
   },
   "source": [
    "# Questions?\n",
    "\n",
    "---"
   ]
  },
  {
   "cell_type": "markdown",
   "id": "ruled-preference",
   "metadata": {
    "id": "ea9f4771-956f-463a-9666-9a1120abe180"
   },
   "source": [
    "## 2. Your own custom Executor\n",
    "\n",
    "Next let's delve one level deeper into Jina.\n",
    "\n",
    "So far we have looked at the Flow (top level) and the Document (one element of data).\n",
    "\n",
    "The intermediate level is the Executor (which is a component in the pipeline of the Flow).\n",
    "\n",
    "Let's create an Executor which \"logs\" the query results."
   ]
  },
  {
   "cell_type": "code",
   "execution_count": null,
   "id": "remarkable-symbol",
   "metadata": {
    "id": "e56c4acb-4d46-4dd2-95f9-97fc7ea011fa"
   },
   "outputs": [],
   "source": [
    "from components import RequestLogger"
   ]
  },
  {
   "cell_type": "markdown",
   "id": "smoking-rebound",
   "metadata": {
    "id": "d656e42b-a580-4794-918e-317e375871da"
   },
   "source": [
    "Either edit the `flows/flow.yml` file to add it, or use the pre-written `flows/flow-torch-logger.yml`"
   ]
  },
  {
   "cell_type": "markdown",
   "id": "adapted-waste",
   "metadata": {
    "id": "charming-imagination"
   },
   "source": [
    "# Questions?\n",
    "\n",
    "---"
   ]
  },
  {
   "cell_type": "markdown",
   "id": "residential-williams",
   "metadata": {
    "id": "supported-martin"
   },
   "source": [
    "## 3. Optimization \n",
    "\n",
    "#### *(Max)*\n",
    "\n",
    "In every Flow that is build with Jina, there are quite some parameters to set.\n",
    "As we saw, if you use a pre-trained model for encoding, there is no obvious best choice for a given dataset.\n",
    "Jina allows you to try out a lot of different parameters automatically in order to get the best results.\n",
    "\n",
    "Therefor, you need to provide Jina some sort of evaluation metric.\n",
    "In the pokemon dataset, there are two edition with the same pokemon, but different images: `red-blue` and `red-green`.\n",
    "\n",
    "![1.png](img/1.png)\n",
    "\n",
    "![1.png](img/1-green.png)\n",
    "\n",
    "Thus, we will setup the following evaluation metric:\n",
    "Index one edition and search with the other edition.\n",
    "We have a success, if the right pokemon is at the first place in the search results.\n",
    "\n",
    "We need to do the following steps:\n",
    "\n",
    "- A) build an `index` and a `search` Flow, which are repeaditly runnable\n",
    "- B) use the `red-blue` dataset for `index` and the `red-green` for `search`\n",
    "- C) implement an `EvaluationCallback` which will calculate, if the right pokemon is in the first place\n",
    "- D) set the needed `OptimizationParameter` via a `parameter.yml` file\n",
    "- E) setup the optimization process itself\n",
    "\n",
    "**NOTE**: Under the hood, we use [optuna](https://optuna.readthedocs.io/en/stable/) for hyperparameter optimization.\n",
    "\n",
    "### Do the imports"
   ]
  },
  {
   "cell_type": "code",
   "execution_count": null,
   "id": "ecological-aruba",
   "metadata": {
    "id": "cooperative-realtor"
   },
   "outputs": [],
   "source": [
    "from glob import iglob\n",
    "from jina import Document\n",
    "from jina.optimizers.flow_runner import SingleFlowRunner, MultiFlowRunner\n",
    "from jina.optimizers import FlowOptimizer, EvaluationCallback"
   ]
  },
  {
   "cell_type": "markdown",
   "id": "structural-intermediate",
   "metadata": {
    "id": "alien-fossil"
   },
   "source": [
    "### A + B) Index & Search Flow\n",
    "\n",
    "Jina provides the \n",
    "- `SingleFlowRunner` for making a Flow repeaditly runnable and the \n",
    "- `MultiFlowRunner` to chain multiple `SingleFlowRunner` for the `FlowOptimizer`\n",
    "\n",
    "For setup you need:\n",
    "- `flow_yaml`: the definition of a Flow\n",
    "- `documents`: the Documents, which are send to the Flow in each optimization step\n",
    "- `execution_method`: tell the Flow, whether `index` or `search` should be used\n",
    "\n",
    "The optimizer provides the workspace for each trial always via the `JINA_OPTIMIZER_TRIAL_WORKSPACE` environment variable."
   ]
  },
  {
   "cell_type": "code",
   "execution_count": null,
   "id": "explicit-fifteen",
   "metadata": {
    "id": "italic-mounting"
   },
   "outputs": [],
   "source": [
    "def get_documents(edition):\n",
    "    image_src = f'data/pokemon/main-sprites/{edition}/*.png'\n",
    "    docs = []\n",
    "    for filename in iglob(image_src, recursive=True):\n",
    "        doc = Document(uri=filename)\n",
    "        doc.convert_image_uri_to_blob()\n",
    "\n",
    "        doc.blob = doc.blob.astype(np.uint8)\n",
    "        doc.tags['filename'] = filename\n",
    "        docs.append(doc)\n",
    "    return docs\n",
    "\n",
    "def get_flows():\n",
    "    index_flow = SingleFlowRunner(\n",
    "        flow_yaml='flows/flow_opt.yml',\n",
    "        documents=get_documents('red-blue'),\n",
    "        request_size=64,\n",
    "        execution_endpoint='/index',\n",
    "        overwrite_workspace=True\n",
    "    )\n",
    "\n",
    "    search_flow = SingleFlowRunner(\n",
    "        flow_yaml='flows/flow_opt.yml',\n",
    "        documents=get_documents('red-green'),\n",
    "        request_size=64,\n",
    "        execution_endpoint='/search'\n",
    "    )\n",
    "\n",
    "    multi_flow = MultiFlowRunner([index_flow, search_flow])\n",
    "    return multi_flow\n"
   ]
  },
  {
   "cell_type": "markdown",
   "id": "charming-tonight",
   "metadata": {
    "id": "global-database"
   },
   "source": [
    "### C) `EvaluationCallback`\n",
    "\n",
    "Since the files are named the same for both editions, we use the filename as an identifier, whether we found the right pokemon.\n",
    "The `PokemonCallback` checks for each Document, whether the correct result is in the first position."
   ]
  },
  {
   "cell_type": "code",
   "execution_count": null,
   "id": "offshore-click",
   "metadata": {
    "id": "technical-airfare"
   },
   "outputs": [],
   "source": [
    "def get_id(doc):\n",
    "    filename = str(doc.tags.fields['filename'])\n",
    "    return filename.split('/')[-1].split('.')[0]\n",
    "\n",
    "class PokemonCallback(EvaluationCallback):\n",
    "\n",
    "    def get_empty_copy(self):\n",
    "        return PokemonCallback(self._eval_name)\n",
    "    \n",
    "    def __call__(self, response):\n",
    "        self._n_docs += len(response.data.docs)\n",
    "        for doc in response.data.docs:\n",
    "            if doc.matches:\n",
    "                document_id = get_id(doc)\n",
    "                first_match_id = get_id(doc.matches[0])\n",
    "                if document_id == first_match_id:\n",
    "                    self._evaluation_values[self._eval_name].append(1)\n",
    "                else:\n",
    "                    self._evaluation_values[self._eval_name].append(0)\n",
    "                    "
   ]
  },
  {
   "cell_type": "markdown",
   "id": "numerous-payroll",
   "metadata": {
    "id": "bridal-dispatch"
   },
   "source": [
    "### D) `OptimizationParameter` via `parameter.yml`\n",
    "\n",
    "We defined in the `parameter_few.yml` the models, that the optimizer should try out.\n",
    "For demonstation purpose, we just added three models.\n",
    "\n",
    "If you want to try more models, please use the `parameter.yml` file and increase `n_trials` parameter in the `FlowOptimizer` below."
   ]
  },
  {
   "cell_type": "markdown",
   "id": "exposed-fighter",
   "metadata": {
    "id": "christian-brooklyn"
   },
   "source": [
    "### E) The Optimization\n",
    "\n",
    "Finally, we build the `FlowOptimizer` object.\n",
    "It needs:\n",
    "- `flow_runner`: the repeaditly runnable Flow object\n",
    "- `parameter_yaml`: the parameters which the optimizer can change\n",
    "- `evaluation_callback`: our previously defined evaluation function\n",
    "- `workspace_base_dir`: A directory for temporary data\n",
    "- `n_trials`: The amount of optimization steps, that should be performed\n",
    "- `sampler`: the way, the `FlowOptimizer` should sample new values in each step. For more info please look at the [optuna docs](https://optuna.readthedocs.io/en/stable/reference/generated/optuna.samplers.RandomSampler.html#optuna.samplers.RandomSampler)."
   ]
  },
  {
   "cell_type": "code",
   "execution_count": null,
   "id": "exact-thanks",
   "metadata": {
    "id": "623308f2-a996-43ad-953f-c50ae21da496",
    "tags": []
   },
   "outputs": [],
   "source": [
    "def optimize():\n",
    "    optimizer = FlowOptimizer(\n",
    "        flow_runner=get_flows(),\n",
    "        parameter_yaml='optimize/parameters_few.yml',\n",
    "        evaluation_callback=PokemonCallback(eval_name='pokedex_eval'),\n",
    "        workspace_base_dir='workspace',\n",
    "        n_trials=3,\n",
    "        sampler='RandomSampler',\n",
    "        # to guarantee reproducibility in the sampling\n",
    "        seed=1\n",
    "    )\n",
    "    result = optimizer.optimize_flow()\n",
    "    result.save_parameters('optimize/best_config.yml')"
   ]
  },
  {
   "cell_type": "code",
   "execution_count": null,
   "id": "devoted-teacher",
   "metadata": {
    "colab": {
     "base_uri": "https://localhost:8080/"
    },
    "id": "c1e46b5f-af02-4973-a817-49206185e221",
    "outputId": "0d3393b0-f344-48fe-d7f9-6be7f2665b07",
    "tags": []
   },
   "outputs": [],
   "source": [
    "optimize()"
   ]
  },
  {
   "cell_type": "markdown",
   "id": "grand-least",
   "metadata": {
    "id": "e53cc612-e292-4e70-a0d4-d367175fe241"
   },
   "source": [
    "We can now check `optimize/best_config.yml` to see our best configuration."
   ]
  }
 ],
 "metadata": {
  "colab": {
   "name": "workshop.ipynb",
   "provenance": []
  },
  "kernelspec": {
   "display_name": "Python 3",
   "language": "python",
   "name": "python3"
  },
  "language_info": {
   "codemirror_mode": {
    "name": "ipython",
    "version": 3
   },
   "file_extension": ".py",
   "mimetype": "text/x-python",
   "name": "python",
   "nbconvert_exporter": "python",
   "pygments_lexer": "ipython3",
   "version": "3.8.10"
  }
 },
 "nbformat": 4,
 "nbformat_minor": 5
}
